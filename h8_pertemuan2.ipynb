{
 "cells": [
  {
   "cell_type": "markdown",
   "metadata": {},
   "source": [
    "## Conditional Statement"
   ]
  },
  {
   "cell_type": "code",
   "execution_count": 8,
   "metadata": {},
   "outputs": [
    {
     "name": "stdout",
     "output_type": "stream",
     "text": [
      "x lebih kecil dari y\n",
      "y dianggap true\n",
      "raChMa tidak termasuk di Rachma Elmira\n",
      "Rachma termasuk di Rachma Elmira\n"
     ]
    }
   ],
   "source": [
    "x = 0\n",
    "y = 7\n",
    "\n",
    "if x<y:\n",
    "    print(\"x lebih kecil dari y\")\n",
    "    \n",
    "if y<x:\n",
    "    print(\"y lebih kecil dari x\")\n",
    "    \n",
    "if x:\n",
    "    print(\"x dianggap true\")\n",
    "    \n",
    "if y:\n",
    "    print(\"y dianggap true\")    \n",
    "    \n",
    "if \"raChMa\" in \"Rachma Elmira\":\n",
    "    print(\"raChMa termasuk di Rachma Elmira\")\n",
    "print(\"raChMa tidak termasuk di Rachma Elmira\")\n",
    "    \n",
    "if \"Rachma\" in \"Rachma Elmira\":\n",
    "    print(\"Rachma termasuk di Rachma Elmira\") "
   ]
  },
  {
   "cell_type": "code",
   "execution_count": 5,
   "metadata": {},
   "outputs": [
    {
     "name": "stdout",
     "output_type": "stream",
     "text": [
      "x termasuk di 17-100\n"
     ]
    }
   ],
   "source": [
    "x=18\n",
    "\n",
    "if x in range(17,100):\n",
    " print(\"x termasuk di 17-100\")"
   ]
  },
  {
   "cell_type": "markdown",
   "metadata": {},
   "source": [
    "nested if"
   ]
  },
  {
   "cell_type": "code",
   "execution_count": 13,
   "metadata": {},
   "outputs": [
    {
     "name": "stdout",
     "output_type": "stream",
     "text": [
      "Cukup Umur\n",
      "Ada Komorbid\n",
      "Pengecekan Selesai\n"
     ]
    }
   ],
   "source": [
    "#ana umur 17, belum vaksin, Komorbid\n",
    "\n",
    "umur = 17\n",
    "sudah_vaksin = False\n",
    "komorbid = True\n",
    "\n",
    "if umur >= 17:\n",
    "    print (\"Cukup Umur\")\n",
    "    \n",
    "    if sudah_vaksin:\n",
    "        print (\"belum vaksin\")\n",
    "    \n",
    "    if komorbid:\n",
    "        print(\"Ada Komorbid\")\n",
    "    \n",
    "print (\"Pengecekan Selesai\")\n",
    "        "
   ]
  },
  {
   "cell_type": "code",
   "execution_count": 14,
   "metadata": {},
   "outputs": [
    {
     "name": "stdout",
     "output_type": "stream",
     "text": [
      "Sudah Vaksin 1\n",
      "Pengecekan Selesai\n"
     ]
    }
   ],
   "source": [
    "#ana umur 17, belum vaksin, Komorbid\n",
    "\n",
    "umur = 17\n",
    "sudah_vaksin = True\n",
    "komorbid = True\n",
    "\n",
    "if sudah_vaksin:\n",
    "    print (\"Sudah Vaksin 1\")\n",
    "else:\n",
    "    print (\"Boleh Vaksin 2\")\n",
    "    \n",
    "print (\"Pengecekan Selesai\")"
   ]
  },
  {
   "cell_type": "markdown",
   "metadata": {},
   "source": [
    "### while loop"
   ]
  },
  {
   "cell_type": "code",
   "execution_count": 16,
   "metadata": {},
   "outputs": [
    {
     "name": "stdout",
     "output_type": "stream",
     "text": [
      "masih ada kelas python 0\n",
      "ikut kelas\n",
      "masih ada kelas python 1\n",
      "ikut kelas\n",
      "masih ada kelas python 2\n",
      "ikut kelas\n",
      "masih ada kelas python 3\n",
      "ikut kelas\n",
      "masih ada kelas python 4\n",
      "ikut kelas\n",
      "masih ada kelas python 5\n",
      "ikut kelas\n",
      "masih ada kelas python 6\n",
      "ikut kelas\n",
      "masih ada kelas python 7\n",
      "ikut kelas\n",
      "masih ada kelas python 8\n",
      "ikut kelas\n",
      "masih ada kelas python 9\n",
      "ikut kelas\n",
      "masih ada kelas python 10\n",
      "ikut kelas\n",
      "masih ada kelas python 11\n",
      "ikut kelas\n",
      "masih ada kelas python 12\n",
      "ikut kelas\n",
      "masih ada kelas python 13\n",
      "ikut kelas\n",
      "masih ada kelas python 14\n",
      "ikut kelas\n",
      "masih ada kelas python 15\n",
      "ikut kelas\n"
     ]
    }
   ],
   "source": [
    "counter = 0\n",
    "\n",
    "while counter < 16:\n",
    "    print (\"masih ada kelas python\", counter)\n",
    "    print (\"ikut kelas\")\n",
    "    counter +=1"
   ]
  },
  {
   "cell_type": "code",
   "execution_count": 20,
   "metadata": {},
   "outputs": [
    {
     "name": "stdout",
     "output_type": "stream",
     "text": [
      "6\n",
      "5\n",
      "4\n",
      "3\n",
      "2\n",
      "1\n",
      "0\n"
     ]
    }
   ],
   "source": [
    "angka = 7\n",
    "\n",
    "while angka > 0:\n",
    "    angka -= 1\n",
    "    print (angka)\n"
   ]
  },
  {
   "cell_type": "code",
   "execution_count": 24,
   "metadata": {},
   "outputs": [
    {
     "name": "stdout",
     "output_type": "stream",
     "text": [
      "1\n",
      "2\n",
      "3\n",
      "4\n",
      "5\n",
      "6\n",
      "7\n",
      "8\n",
      "9\n"
     ]
    }
   ],
   "source": [
    "nilai = range (1,10)\n",
    "for i in nilai:\n",
    "    print(i)"
   ]
  },
  {
   "cell_type": "code",
   "execution_count": 22,
   "metadata": {},
   "outputs": [
    {
     "data": {
      "text/plain": [
       "range(1, 10)"
      ]
     },
     "execution_count": 22,
     "metadata": {},
     "output_type": "execute_result"
    }
   ],
   "source": [
    "range(1,10)"
   ]
  },
  {
   "cell_type": "code",
   "execution_count": 23,
   "metadata": {},
   "outputs": [
    {
     "name": "stdin",
     "output_type": "stream",
     "text": [
      "Ketikan sesuatu : hi\n"
     ]
    },
    {
     "name": "stdout",
     "output_type": "stream",
     "text": [
      "hi\n"
     ]
    },
    {
     "name": "stdin",
     "output_type": "stream",
     "text": [
      "Ketikan sesuatu : hello\n"
     ]
    },
    {
     "name": "stdout",
     "output_type": "stream",
     "text": [
      "hello\n"
     ]
    },
    {
     "name": "stdin",
     "output_type": "stream",
     "text": [
      "Ketikan sesuatu : Stop\n"
     ]
    },
    {
     "name": "stdout",
     "output_type": "stream",
     "text": [
      "stop\n"
     ]
    }
   ],
   "source": [
    "while True:\n",
    "    message = input (\"Ketikan sesuatu :\").lower()\n",
    "    print(message)\n",
    "    if message == \"stop\":\n",
    "        break\n",
    "    \n",
    "    "
   ]
  },
  {
   "cell_type": "code",
   "execution_count": null,
   "metadata": {},
   "outputs": [],
   "source": []
  }
 ],
 "metadata": {
  "kernelspec": {
   "display_name": "Python 3",
   "language": "python",
   "name": "python3"
  },
  "language_info": {
   "codemirror_mode": {
    "name": "ipython",
    "version": 3
   },
   "file_extension": ".py",
   "mimetype": "text/x-python",
   "name": "python",
   "nbconvert_exporter": "python",
   "pygments_lexer": "ipython3",
   "version": "3.8.5"
  }
 },
 "nbformat": 4,
 "nbformat_minor": 4
}
