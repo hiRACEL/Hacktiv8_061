{
 "cells": [
  {
   "cell_type": "markdown",
   "metadata": {},
   "source": [
    "# BEGINNER"
   ]
  },
  {
   "cell_type": "markdown",
   "metadata": {},
   "source": [
    "## Print() function"
   ]
  },
  {
   "cell_type": "code",
   "execution_count": 4,
   "metadata": {},
   "outputs": [
    {
     "name": "stdout",
     "output_type": "stream",
     "text": [
      "Hello World\n"
     ]
    }
   ],
   "source": [
    "# You can assign \"Hello World!\" to the variable below on line 3.\n",
    "\n",
    "my_text=\"Hello World\"\n",
    "print(my_text)"
   ]
  },
  {
   "cell_type": "code",
   "execution_count": 5,
   "metadata": {},
   "outputs": [
    {
     "name": "stdout",
     "output_type": "stream",
     "text": [
      "hi\n"
     ]
    }
   ],
   "source": [
    "#There are many ways to concetenate different data pieces with Python's print() function. Here is one of them. Take a look!\n",
    "# Type a couple of different values on line 9 inside the print function. Make sure they are separated by commas.    \n",
    "    \n",
    "print(\"hi\")\n"
   ]
  },
  {
   "cell_type": "markdown",
   "metadata": {},
   "source": [
    "## Variables"
   ]
  },
  {
   "cell_type": "code",
   "execution_count": 6,
   "metadata": {},
   "outputs": [
    {
     "name": "stdout",
     "output_type": "stream",
     "text": [
      "I drank 3 glasses of water today.\n"
     ]
    }
   ],
   "source": [
    "## Below is a good example of mixing numbers and text inside the print() function\n",
    "\n",
    "#Type here. Assign a number to the variable: glass_of_water\n",
    "\n",
    "glass_of_water=3\n",
    "\n",
    "print(\"I drank\", glass_of_water, \"glasses of water today.\")\n",
    "\n"
   ]
  },
  {
   "cell_type": "code",
   "execution_count": 1,
   "metadata": {},
   "outputs": [
    {
     "name": "stdout",
     "output_type": "stream",
     "text": [
      "Hello World\n"
     ]
    }
   ],
   "source": [
    "## Let's try to see what happens after assigning a new value to our variable. Note that program gets executed line by line.\n"
   ]
  },
  {
   "cell_type": "code",
   "execution_count": 9,
   "metadata": {},
   "outputs": [
    {
     "name": "stdout",
     "output_type": "stream",
     "text": [
      "4\n"
     ]
    }
   ],
   "source": [
    "#Fill the print function so it prints glass_of_water\n",
    "\n",
    "#Fill the print function so it prints glass_of_water\n",
    "\n",
    "glass_of_water=3\n",
    "\n",
    "glass_of_water=glass_of_water + 1\n",
    "\n",
    "\n",
    "print(glass_of_water)"
   ]
  },
  {
   "cell_type": "markdown",
   "metadata": {},
   "source": [
    "## Data Type"
   ]
  },
  {
   "cell_type": "code",
   "execution_count": 12,
   "metadata": {},
   "outputs": [
    {
     "name": "stdout",
     "output_type": "stream",
     "text": [
      "18\n"
     ]
    }
   ],
   "source": [
    "#Assign an integer to the variable, then print it.\n",
    "\n",
    "men_stepped_on_the_moon=18\n",
    "print(men_stepped_on_the_moon)"
   ]
  },
  {
   "cell_type": "code",
   "execution_count": 14,
   "metadata": {},
   "outputs": [
    {
     "name": "stdout",
     "output_type": "stream",
     "text": [
      "being fxking rich\n"
     ]
    }
   ],
   "source": [
    "#Type a couple of words or a short sentence for your variable, then print it.\n",
    "\n",
    "my_reason_for_coding=\"being fxking rich\"\n",
    "print(my_reason_for_coding)"
   ]
  },
  {
   "cell_type": "code",
   "execution_count": 15,
   "metadata": {},
   "outputs": [
    {
     "name": "stdout",
     "output_type": "stream",
     "text": [
      "21.36\n"
     ]
    }
   ],
   "source": [
    "#Assign a float with 2 decimals to the variable below. If you don't wan't to search the value you can check out Hint 1.\n",
    "\n",
    "global_mean_sea_level_2018=21\n",
    "\n",
    "#Type your code here.\n",
    "global_mean_sea_level_2018=21.36\n",
    "\n",
    "\n",
    "print(global_mean_sea_level_2018)"
   ]
  },
  {
   "cell_type": "code",
   "execution_count": 16,
   "metadata": {},
   "outputs": [
    {
     "name": "stdout",
     "output_type": "stream",
     "text": [
      "True\n"
     ]
    }
   ],
   "source": [
    "#Assign True or False to the variable below then print it.\n",
    "\n",
    "staying_alive=True\n",
    "print(staying_alive)"
   ]
  },
  {
   "cell_type": "markdown",
   "metadata": {},
   "source": [
    "## Type Conversion"
   ]
  },
  {
   "cell_type": "code",
   "execution_count": 17,
   "metadata": {},
   "outputs": [
    {
     "name": "stdout",
     "output_type": "stream",
     "text": [
      "<class 'int'>\n"
     ]
    }
   ],
   "source": [
    "## Using type() function assign the type of the variable to answer_1, then print it.\n",
    "men_stepped_on_the_moon=12\n",
    "\n",
    "#Type your code here.\n",
    "\n",
    "answer_1=men_stepped_on_the_moon\n",
    "\n",
    "\n",
    "print(type(answer_1))"
   ]
  },
  {
   "cell_type": "code",
   "execution_count": 18,
   "metadata": {},
   "outputs": [
    {
     "name": "stdout",
     "output_type": "stream",
     "text": [
      "<class 'str'>\n"
     ]
    }
   ],
   "source": [
    "## Using type() function assign the type of the variable to answer_2, then print it.\n",
    "my_reason_for_coding=\"intergalactic travel\"\n",
    "\n",
    "#Type your code here.\n",
    "\n",
    "answer_2=my_reason_for_coding\n",
    "\n",
    "\n",
    "print(type (answer_2))"
   ]
  },
  {
   "cell_type": "code",
   "execution_count": 20,
   "metadata": {},
   "outputs": [
    {
     "name": "stdout",
     "output_type": "stream",
     "text": [
      "<class 'float'>\n"
     ]
    }
   ],
   "source": [
    "global_mean_sea_level_delta_2018=21.36\n",
    "\n",
    "#Type your code here.\n",
    "\n",
    "answer_3=type(global_mean_sea_level_delta_2018)\n",
    "\n",
    "\n",
    "print(answer_3)"
   ]
  },
  {
   "cell_type": "code",
   "execution_count": 21,
   "metadata": {},
   "outputs": [
    {
     "name": "stdout",
     "output_type": "stream",
     "text": [
      "<class 'bool'>\n"
     ]
    }
   ],
   "source": [
    "staying_alive=True\n",
    "\n",
    "#Type your code here.\n",
    "\n",
    "\n",
    "answer_4=type(staying_alive)\n",
    "\n",
    "\n",
    "print(answer_4)"
   ]
  },
  {
   "cell_type": "code",
   "execution_count": 22,
   "metadata": {},
   "outputs": [
    {
     "name": "stdout",
     "output_type": "stream",
     "text": [
      "10\n"
     ]
    }
   ],
   "source": [
    "#my_grade variable is a string (because it's in quotes). On line 9, convert it to an integer.\n",
    "\n",
    "my_grade=\"10\"\n",
    "\n",
    "answer_5=int(my_grade)\n",
    "\n",
    "\n",
    "print(answer_5)"
   ]
  },
  {
   "cell_type": "code",
   "execution_count": 23,
   "metadata": {},
   "outputs": [
    {
     "name": "stdout",
     "output_type": "stream",
     "text": [
      "97\n"
     ]
    }
   ],
   "source": [
    "#my_temp variable is a float (because it has decimals). On line 9, convert it to an integer.\n",
    "\n",
    "my_temp=97.70\n",
    "\n",
    "answer_6=int(my_temp)\n",
    "\n",
    "\n",
    "print(answer_6)"
   ]
  },
  {
   "cell_type": "code",
   "execution_count": 24,
   "metadata": {},
   "outputs": [
    {
     "name": "stdout",
     "output_type": "stream",
     "text": [
      "69.99\n"
     ]
    }
   ],
   "source": [
    "#shoe_price variable is a string (because it's in quotes). On line 9, convert it into a float.\n",
    "\n",
    "shoe_price=\"69.99\"\n",
    "\n",
    "answer_7=float(shoe_price)\n",
    "\n",
    "\n",
    "print(answer_7)\n"
   ]
  },
  {
   "cell_type": "code",
   "execution_count": 25,
   "metadata": {},
   "outputs": [
    {
     "name": "stdout",
     "output_type": "stream",
     "text": [
      "In 2018 gross product of the world (GWP) was 84.84 in trillion US dollars.\n"
     ]
    }
   ],
   "source": [
    "#GWP denotes the total economic activity created by the world population collectively in a year.\n",
    "\n",
    "gross_world_product=84.84\n",
    "\n",
    "gwp_str=str(gross_world_product)\n",
    "\n",
    "answer_8=\"In 2018 gross product of the world (GWP) was \" + gwp_str + \" in trillion US dollars.\"\n",
    "\n",
    "\n",
    "print(answer_8)\n"
   ]
  },
  {
   "cell_type": "markdown",
   "metadata": {},
   "source": [
    "## Data Structure"
   ]
  },
  {
   "cell_type": "code",
   "execution_count": 27,
   "metadata": {},
   "outputs": [
    {
     "name": "stdout",
     "output_type": "stream",
     "text": [
      "<class 'list'>\n"
     ]
    }
   ],
   "source": [
    "## Let's create an empty list and print its type\n",
    "\n",
    "#Create an empty list on line 3 and assign its type on line 4\n",
    "\n",
    "gift_list=[]\n",
    "\n",
    "answer_1=type(gift_list)\n",
    "\n",
    "\n",
    "print(answer_1)"
   ]
  },
  {
   "cell_type": "code",
   "execution_count": 28,
   "metadata": {},
   "outputs": [
    {
     "name": "stdout",
     "output_type": "stream",
     "text": [
      "<class 'dict'>\n"
     ]
    }
   ],
   "source": [
    "## Now, we will create an empty dictionary and print its type.\n",
    "#Create an empty dictionary on line 3 and assign its type on line 4\n",
    "\n",
    "grocery_items={}\n",
    "\n",
    "answer_2=type(grocery_items)\n",
    "\n",
    "\n",
    "print(answer_2)"
   ]
  },
  {
   "cell_type": "code",
   "execution_count": 29,
   "metadata": {},
   "outputs": [
    {
     "name": "stdout",
     "output_type": "stream",
     "text": [
      "<class 'tuple'>\n"
     ]
    }
   ],
   "source": [
    "## Then we will create an empty tuple and print its type.\n",
    "#Create an empty tuple on line 3 and assign its type on line 4\n",
    "\n",
    "bucket_list=()\n",
    "\n",
    "answer_2=type(bucket_list)\n",
    "\n",
    "\n",
    "print(answer_2)"
   ]
  },
  {
   "cell_type": "code",
   "execution_count": 31,
   "metadata": {},
   "outputs": [
    {
     "name": "stdout",
     "output_type": "stream",
     "text": [
      "['emas 100gr', 'Laptop', 3, 'Handphone']\n"
     ]
    }
   ],
   "source": [
    "#Fill in the right side of equation on line 3 so that gift_list is assigned to a list with values in it.\n",
    "\n",
    "gift_list=[\"emas 100gr\",\"Laptop\", 3 , \"Handphone\"]\n",
    "print(gift_list)\n",
    "\n"
   ]
  },
  {
   "cell_type": "code",
   "execution_count": 33,
   "metadata": {},
   "outputs": [
    {
     "name": "stdout",
     "output_type": "stream",
     "text": [
      "{'buah': ['apples', 'mangoes', 'blueberries'], 'frozen food': 'nugget', 'snack': 'chiki'}\n"
     ]
    }
   ],
   "source": [
    "#Fill in the right side of equation on line 3 so that grocery_list is assigned to a dictionary with values in it.\n",
    "\n",
    "grocery_list={'buah':['apples','mangoes','blueberries'],\n",
    "             'frozen food':'nugget',\n",
    "             'snack':'chiki'}\n",
    "\n",
    "\n",
    "print(grocery_list)"
   ]
  },
  {
   "cell_type": "code",
   "execution_count": 34,
   "metadata": {},
   "outputs": [
    {
     "name": "stdout",
     "output_type": "stream",
     "text": [
      "('baz', 'uhuy', 'uyeah')\n"
     ]
    }
   ],
   "source": [
    "#Fill in the right side of equation on line 3 so that bucket_list is assigned to a tuple with values in it.\n",
    "\n",
    "bucket_list=('baz','uhuy','uyeah')\n",
    "print(bucket_list)\n"
   ]
  },
  {
   "cell_type": "markdown",
   "metadata": {},
   "source": [
    "## List"
   ]
  },
  {
   "cell_type": "code",
   "execution_count": 35,
   "metadata": {},
   "outputs": [
    {
     "name": "stdout",
     "output_type": "stream",
     "text": [
      "11\n"
     ]
    }
   ],
   "source": [
    "lst=[11, 100, 99, 1000, 999]\n",
    "answer_1=lst[0]\n",
    "\n",
    "print(answer_1)"
   ]
  },
  {
   "cell_type": "code",
   "execution_count": 36,
   "metadata": {},
   "outputs": [
    {
     "name": "stdout",
     "output_type": "stream",
     "text": [
      "100\n"
     ]
    }
   ],
   "source": [
    "##And let's print the second element directly inside print function.\n",
    "##This time print the second element of the list directly on line 3. You should get 100.\n",
    "\n",
    "lst=[11, 100, 101, 999, 1001]\n",
    "\n",
    "print(lst[1])"
   ]
  },
  {
   "cell_type": "code",
   "execution_count": 37,
   "metadata": {},
   "outputs": [
    {
     "name": "stdout",
     "output_type": "stream",
     "text": [
      "1001\n"
     ]
    }
   ],
   "source": [
    "## Print the last element of the list through variable answer_1.\n",
    "lst=[11, 100, 101, 999, 1001]\n",
    "#Type your answer here.\n",
    "\n",
    "answer_1=lst[-1]\n",
    "\n",
    "print(answer_1)"
   ]
  },
  {
   "cell_type": "code",
   "execution_count": 38,
   "metadata": {},
   "outputs": [
    {
     "name": "stdout",
     "output_type": "stream",
     "text": [
      "['socks', '4K drone', 'wine', 'jam', 'pajamas']\n"
     ]
    }
   ],
   "source": [
    "## On line 3, add the string \"pajamas\" to the list with .append() method.\n",
    "\n",
    "gift_list=['socks', '4K drone', 'wine', 'jam']\n",
    "# Type your code here.\n",
    "gift_list.append(\"pajamas\")\n",
    "\n",
    "\n",
    "print(gift_list)"
   ]
  },
  {
   "cell_type": "code",
   "execution_count": 39,
   "metadata": {},
   "outputs": [
    {
     "name": "stdout",
     "output_type": "stream",
     "text": [
      "['socks', '4K drone', 'wine', 'jam', ['socks', 'tshirt', 'pajamas']]\n"
     ]
    }
   ],
   "source": [
    "## Lists can hold many type of data inside them. You can even add another list to a list as its element. This is called nested data in Python.\n",
    "#On line 3, this time add the sub-list: [\"socks\", \"tshirt\", \"pajamas\"] to the end of the gift_list.\n",
    "\n",
    "gift_list=['socks', '4K drone', 'wine', 'jam']\n",
    "# Type your code here.\n",
    "gift_list.append([\"socks\", \"tshirt\", \"pajamas\"])\n",
    "\n",
    "\n",
    "print(gift_list)"
   ]
  },
  {
   "cell_type": "code",
   "execution_count": 40,
   "metadata": {},
   "outputs": [
    {
     "name": "stdout",
     "output_type": "stream",
     "text": [
      "['socks', '4K drone', 'slippers', 'wine', 'jam']\n"
     ]
    }
   ],
   "source": [
    "## On line 3, this time insert \"slippers\" to index 3 of gift_list.\n",
    "gift_list=['socks', '4K drone', 'wine', 'jam']\n",
    "# Type your code here.\n",
    "gift_list.insert(2,'slippers')\n",
    "\n",
    "\n",
    "print(gift_list)"
   ]
  },
  {
   "cell_type": "code",
   "execution_count": 41,
   "metadata": {},
   "outputs": [
    {
     "name": "stdout",
     "output_type": "stream",
     "text": [
      "8\n"
     ]
    }
   ],
   "source": [
    "## With .index() method you can learn the index number of an item inside your list. Assign the index no of 8679 to the variable answer_1\n",
    "lst=[55, 777, 54, 6, 76, 101, 1, 2, 8679, 123, 99]\n",
    "#  Type your code here.\n",
    "\n",
    "answer_1=lst.index(8679)\n",
    "\n",
    "print(answer_1)"
   ]
  },
  {
   "cell_type": "code",
   "execution_count": 42,
   "metadata": {},
   "outputs": [
    {
     "name": "stdout",
     "output_type": "stream",
     "text": [
      "['CRV', 'Outback', 'XC90', 'GL', 'Cherokee', 'Escalade', ['Navigator', 'Suburban']]\n"
     ]
    }
   ],
   "source": [
    "## Using .append() method, add a new list to the end of the list which contains strings: \"Navigator\" and \"Suburban\".\n",
    "lst=[\"CRV\", \"Outback\", \"XC90\", \"GL\", \"Cherokee\", \"Escalade\"]\n",
    "#  Type your code here.\n",
    "lst.append([\"Navigator\",\"Suburban\"])\n",
    "\n",
    "\n",
    "print(lst)"
   ]
  },
  {
   "cell_type": "code",
   "execution_count": 43,
   "metadata": {},
   "outputs": [
    {
     "name": "stdout",
     "output_type": "stream",
     "text": [
      "[55, 777, 54, 6, 76, 101, 1, 2, 8679, 123]\n"
     ]
    }
   ],
   "source": [
    "##Using .remove() method, clear the last element of the list.\n",
    "lst=[55, 777, 54, 6, 76, 101, 1, 2, 8679, 123, 99]\n",
    "#  Type your code here\n",
    "lst.remove(99)\n",
    "\n",
    "\n",
    "print(lst)"
   ]
  },
  {
   "cell_type": "code",
   "execution_count": 44,
   "metadata": {},
   "outputs": [
    {
     "name": "stdout",
     "output_type": "stream",
     "text": [
      "[99, 123, 8679, 2, 1, 101, 76, 6, 54, 777, 55]\n"
     ]
    }
   ],
   "source": [
    "## Using .reverse() method, reverse the list\n",
    "lst=[55, 777, 54, 6, 76, 101, 1, 2, 8679, 123, 99]\n",
    "#  Type your code here.\n",
    "lst.reverse()\n",
    "\n",
    "\n",
    "print(lst)"
   ]
  },
  {
   "cell_type": "code",
   "execution_count": 45,
   "metadata": {},
   "outputs": [
    {
     "name": "stdout",
     "output_type": "stream",
     "text": [
      "4\n"
     ]
    }
   ],
   "source": [
    "## Using .count() method, count how many times 6 occur in the list\n",
    "lst=[55, 6, 777, 54, 6, 76, 101, 1, 6, 2, 6]\n",
    "#  Type your code inside print() function.\n",
    "\n",
    "answer_1=lst.count(6)\n",
    "\n",
    "print(answer_1)"
   ]
  },
  {
   "cell_type": "code",
   "execution_count": 46,
   "metadata": {},
   "outputs": [
    {
     "name": "stdout",
     "output_type": "stream",
     "text": [
      "1090\n"
     ]
    }
   ],
   "source": [
    "## What is the sum of all the numbers in the list?\n",
    "lst=[55, 6, 777, 54, 6, 76, 101, 1, 6, 2, 6]\n",
    "\n",
    "#  Type your code on line 4:\n",
    "answer_1=sum(lst)\n",
    "\n",
    "print(answer_1)"
   ]
  },
  {
   "cell_type": "code",
   "execution_count": 47,
   "metadata": {},
   "outputs": [
    {
     "name": "stdout",
     "output_type": "stream",
     "text": [
      "1\n"
     ]
    }
   ],
   "source": [
    "## What is the minimum value in the list?\n",
    "lst=[55, 6, 777, 54, 6, 76, 101, 1, 6, 2, 6]\n",
    "\n",
    "#  Type your code on line 4:\n",
    "answer_1=min(lst)\n",
    "\n",
    "print(answer_1)"
   ]
  },
  {
   "cell_type": "code",
   "execution_count": 48,
   "metadata": {},
   "outputs": [
    {
     "name": "stdout",
     "output_type": "stream",
     "text": [
      "777\n"
     ]
    }
   ],
   "source": [
    "lst=[55, 6, 777, 54, 6, 76, 101, 1, 6, 2, 6]\n",
    "\n",
    "#  Type your code on line 4:\n",
    "answer_1=max(lst)\n",
    "\n",
    "print(answer_1)"
   ]
  },
  {
   "cell_type": "code",
   "execution_count": null,
   "metadata": {},
   "outputs": [],
   "source": []
  }
 ],
 "metadata": {
  "kernelspec": {
   "display_name": "Python 3",
   "language": "python",
   "name": "python3"
  },
  "language_info": {
   "codemirror_mode": {
    "name": "ipython",
    "version": 3
   },
   "file_extension": ".py",
   "mimetype": "text/x-python",
   "name": "python",
   "nbconvert_exporter": "python",
   "pygments_lexer": "ipython3",
   "version": "3.8.5"
  }
 },
 "nbformat": 4,
 "nbformat_minor": 4
}
